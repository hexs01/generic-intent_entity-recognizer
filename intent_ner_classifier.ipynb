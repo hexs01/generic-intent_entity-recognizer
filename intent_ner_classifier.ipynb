{
 "cells": [
  {
   "cell_type": "code",
   "execution_count": 1,
   "metadata": {},
   "outputs": [
    {
     "name": "stdout",
     "output_type": "stream",
     "text": [
      "Running on local URL:  http://127.0.0.1:7860\n",
      "\n",
      "To create a public link, set `share=True` in `launch()`.\n"
     ]
    },
    {
     "data": {
      "text/html": [
       "<div><iframe src=\"http://127.0.0.1:7860/\" width=\"100%\" height=\"500\" allow=\"autoplay; camera; microphone; clipboard-read; clipboard-write;\" frameborder=\"0\" allowfullscreen></iframe></div>"
      ],
      "text/plain": [
       "<IPython.core.display.HTML object>"
      ]
     },
     "metadata": {},
     "output_type": "display_data"
    },
    {
     "data": {
      "text/plain": []
     },
     "execution_count": 1,
     "metadata": {},
     "output_type": "execute_result"
    }
   ],
   "source": [
    "import gradio as gr\n",
    "import spacy\n",
    "\n",
    "def combinator(text):\n",
    "    #load spacy ner model\n",
    "    ner = spacy.load(\"en_core_web_lg\")\n",
    "\n",
    "    #load spacy intent classifier model\n",
    "    intent_classifier = spacy.load('intent_classifier_model')\n",
    "\n",
    "    #do ner\n",
    "    ner_result = ner(text)\n",
    "    if len(ner_result.ents) != 0:\n",
    "        for component in ner_result.ents:\n",
    "            ner_str = str('Text: ' + component.text + '\\nEntity: ' + component.ent_type_)\n",
    "    else:\n",
    "        ner_str = 'None'\n",
    "\n",
    "\n",
    "    #do intent classification\n",
    "    intent_result = intent_classifier(text)\n",
    "    intent = {0:'What is',1:'How to',2:'Noun',3:'Number of',4:'List of',5:'Chart of',6:'Where is',7:'Who is',8:'Why is'}\n",
    "    max = [0,0]\n",
    "    for pos, i in enumerate(intent_result.cats):\n",
    "        if float(intent_result.cats[i]) >= max[1]:\n",
    "            max[1] = intent_result.cats[i]\n",
    "            max[0] = pos\n",
    "\n",
    "    return intent[max[0]], ner_str\n",
    "\n",
    "def greet(name, intensity):\n",
    "    return \"Hello \" * intensity + name + \"!\"\n",
    "\n",
    "demo = gr.Interface(\n",
    "    fn=combinator,\n",
    "    inputs=[gr.Textbox(label=\"Input Text\", lines=2)],\n",
    "    outputs=[gr.Textbox(label=\"Intent\", lines=1),gr.Textbox(label=\"Entity\", lines=2)],\n",
    "    title = \"Intent Classifier and Entity Recognition\",\n",
    "    description = 'Enter one utterance/question at a time'\n",
    ")\n",
    "\n",
    "demo.launch()"
   ]
  }
 ],
 "metadata": {
  "kernelspec": {
   "display_name": "spa",
   "language": "python",
   "name": "python3"
  },
  "language_info": {
   "codemirror_mode": {
    "name": "ipython",
    "version": 3
   },
   "file_extension": ".py",
   "mimetype": "text/x-python",
   "name": "python",
   "nbconvert_exporter": "python",
   "pygments_lexer": "ipython3",
   "version": "3.8.18"
  }
 },
 "nbformat": 4,
 "nbformat_minor": 2
}
